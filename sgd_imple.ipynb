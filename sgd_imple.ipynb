{
  "nbformat": 4,
  "nbformat_minor": 0,
  "metadata": {
    "kernelspec": {
      "display_name": "Python 3",
      "language": "python",
      "name": "python3"
    },
    "colab": {
      "name": "lesson2-sgd.ipynb",
      "provenance": []
    },
    "accelerator": "GPU"
  },
  "cells": [
    {
      "cell_type": "code",
      "metadata": {
        "id": "SzpFAeT6QjZU",
        "colab_type": "code",
        "colab": {}
      },
      "source": [
        "%matplotlib inline\n",
        "from fastai.basics import *"
      ],
      "execution_count": 0,
      "outputs": []
    },
    {
      "cell_type": "markdown",
      "metadata": {
        "id": "95IiiAoPQjZb",
        "colab_type": "text"
      },
      "source": [
        "In this part of the lecture we explain Stochastic Gradient Descent (SGD) which is an **optimization** method commonly used in neural networks. We will illustrate the concepts with concrete examples."
      ]
    },
    {
      "cell_type": "markdown",
      "metadata": {
        "id": "ISZILHmKQjZc",
        "colab_type": "text"
      },
      "source": [
        "#  Linear Regression problem"
      ]
    },
    {
      "cell_type": "markdown",
      "metadata": {
        "id": "CWF_7xb_QjZd",
        "colab_type": "text"
      },
      "source": [
        "The goal of linear regression is to fit a line to a set of points."
      ]
    },
    {
      "cell_type": "code",
      "metadata": {
        "id": "1oVc91V1QjZe",
        "colab_type": "code",
        "colab": {}
      },
      "source": [
        "n=100"
      ],
      "execution_count": 0,
      "outputs": []
    },
    {
      "cell_type": "code",
      "metadata": {
        "id": "d8DlthazQjZi",
        "colab_type": "code",
        "colab": {
          "base_uri": "https://localhost:8080/",
          "height": 108
        },
        "outputId": "b0e44496-ece1-47ba-e7fc-b995a962a63c"
      },
      "source": [
        "x = torch.ones(n,2) \n",
        "x[:,0].uniform_(-1.,1)\n",
        "x[:5]"
      ],
      "execution_count": 3,
      "outputs": [
        {
          "output_type": "execute_result",
          "data": {
            "text/plain": [
              "tensor([[ 0.1125,  1.0000],\n",
              "        [ 0.6545,  1.0000],\n",
              "        [-0.5231,  1.0000],\n",
              "        [ 0.5186,  1.0000],\n",
              "        [ 0.2586,  1.0000]])"
            ]
          },
          "metadata": {
            "tags": []
          },
          "execution_count": 3
        }
      ]
    },
    {
      "cell_type": "code",
      "metadata": {
        "id": "Lcaa8c-0QjZp",
        "colab_type": "code",
        "colab": {
          "base_uri": "https://localhost:8080/",
          "height": 35
        },
        "outputId": "90d56aa8-77cf-4aef-ffc1-383755d1043c"
      },
      "source": [
        "a = tensor(3.,2); a"
      ],
      "execution_count": 4,
      "outputs": [
        {
          "output_type": "execute_result",
          "data": {
            "text/plain": [
              "tensor([3., 2.])"
            ]
          },
          "metadata": {
            "tags": []
          },
          "execution_count": 4
        }
      ]
    },
    {
      "cell_type": "code",
      "metadata": {
        "id": "OZeXW604QjZt",
        "colab_type": "code",
        "colab": {}
      },
      "source": [
        "y = x@a + torch.rand(n)"
      ],
      "execution_count": 0,
      "outputs": []
    },
    {
      "cell_type": "code",
      "metadata": {
        "id": "Mcy3RyreQjZx",
        "colab_type": "code",
        "colab": {
          "base_uri": "https://localhost:8080/",
          "height": 265
        },
        "outputId": "205d93a8-021c-44d9-ebc2-ee4f89556af5"
      },
      "source": [
        "plt.scatter(x[:,0], y);"
      ],
      "execution_count": 6,
      "outputs": [
        {
          "output_type": "display_data",
          "data": {
            "image/png": "[encoded data removed]",
            "text/plain": [
              "<Figure size 432x288 with 1 Axes>"
            ]
          },
          "metadata": {
            "tags": [],
            "needs_background": "light"
          }
        }
      ]
    },
    {
      "cell_type": "markdown",
      "metadata": {
        "id": "HcgR-jYeQjZ2",
        "colab_type": "text"
      },
      "source": [
        "You want to find **parameters** (weights) `a` such that you minimize the *error* between the points and the line `x@a`. Note that here `a` is unknown. For a regression problem the most common *error function* or *loss function* is the **mean squared error**. "
      ]
    },
    {
      "cell_type": "code",
      "metadata": {
        "id": "eKHUFugdQjZ3",
        "colab_type": "code",
        "colab": {}
      },
      "source": [
        "def mse(y_hat, y): return ((y_hat-y)**2).mean()"
      ],
      "execution_count": 0,
      "outputs": []
    },
    {
      "cell_type": "markdown",
      "metadata": {
        "id": "4VLVR3N4QjZ7",
        "colab_type": "text"
      },
      "source": [
        "Suppose we believe `a = (-1.0,1.0)` then we can compute `y_hat` which is our *prediction* and then compute our error."
      ]
    },
    {
      "cell_type": "code",
      "metadata": {
        "id": "efqplvV-QjZ8",
        "colab_type": "code",
        "colab": {}
      },
      "source": [
        "a = tensor(-1.,1)"
      ],
      "execution_count": 0,
      "outputs": []
    },
    {
      "cell_type": "code",
      "metadata": {
        "id": "JmckG8UxQjZ_",
        "colab_type": "code",
        "colab": {
          "base_uri": "https://localhost:8080/",
          "height": 35
        },
        "outputId": "ac7a1293-8524-4fdd-e420-b3d3da6bea75"
      },
      "source": [
        "y_hat = x@a\n",
        "mse(y_hat, y)"
      ],
      "execution_count": 9,
      "outputs": [
        {
          "output_type": "execute_result",
          "data": {
            "text/plain": [
              "tensor(7.9142)"
            ]
          },
          "metadata": {
            "tags": []
          },
          "execution_count": 9
        }
      ]
    },
    {
      "cell_type": "code",
      "metadata": {
        "id": "n18Di6TLQjaF",
        "colab_type": "code",
        "colab": {
          "base_uri": "https://localhost:8080/",
          "height": 265
        },
        "outputId": "454ebd7b-bda2-4e7d-e7a1-784f09142851"
      },
      "source": [
        "plt.scatter(x[:,0],y)\n",
        "plt.scatter(x[:,0],y_hat);"
      ],
      "execution_count": 10,
      "outputs": [
        {
          "output_type": "display_data",
          "data": {
            "image/png": "[encoded data removed]",
            "text/plain": [
              "<Figure size 432x288 with 1 Axes>"
            ]
          },
          "metadata": {
            "tags": [],
            "needs_background": "light"
          }
        }
      ]
    },
    {
      "cell_type": "markdown",
      "metadata": {
        "id": "ik2sSiZOQjaJ",
        "colab_type": "text"
      },
      "source": [
        "So far we have specified the *model* (linear regression) and the *evaluation criteria* (or *loss function*). Now we need to handle *optimization*; that is, how do we find the best values for `a`? How do we find the best *fitting* linear regression."
      ]
    },
    {
      "cell_type": "markdown",
      "metadata": {
        "id": "6oFgEQpQQjaL",
        "colab_type": "text"
      },
      "source": [
        "# Gradient Descent"
      ]
    },
    {
      "cell_type": "markdown",
      "metadata": {
        "id": "QSJ7ebvTQjaM",
        "colab_type": "text"
      },
      "source": [
        "We would like to find the values of `a` that minimize `mse_loss`.\n",
        "\n",
        "**Gradient descent** is an algorithm that minimizes functions. Given a function defined by a set of parameters, gradient descent starts with an initial set of parameter values and iteratively moves toward a set of parameter values that minimize the function. This iterative minimization is achieved by taking steps in the negative direction of the function gradient.\n",
        "\n",
        "Here is gradient descent implemented in [PyTorch](http://pytorch.org/)."
      ]
    },
    {
      "cell_type": "code",
      "metadata": {
        "id": "Z9sBPJzZQjaM",
        "colab_type": "code",
        "colab": {
          "base_uri": "https://localhost:8080/",
          "height": 35
        },
        "outputId": "3cbd0d81-4f80-4efe-8091-bc83f31051c2"
      },
      "source": [
        "a = tensor(-1., 1.)\n",
        "a.requires_grad_(requires_grad=True)"
      ],
      "execution_count": 38,
      "outputs": [
        {
          "output_type": "execute_result",
          "data": {
            "text/plain": [
              "tensor([-1.,  1.], requires_grad=True)"
            ]
          },
          "metadata": {
            "tags": []
          },
          "execution_count": 38
        }
      ]
    },
    {
      "cell_type": "code",
      "metadata": {
        "id": "3EpvnZ0oSC7D",
        "colab_type": "code",
        "colab": {}
      },
      "source": [
        "doc(nn.Parameter)"
      ],
      "execution_count": 0,
      "outputs": []
    },
    {
      "cell_type": "code",
      "metadata": {
        "id": "SELDHM2nQjaQ",
        "colab_type": "code",
        "colab": {}
      },
      "source": [
        "def update():\n",
        "    y_hat = x@a\n",
        "    loss = mse(y, y_hat)\n",
        "    if t % 10 == 0: print(loss)\n",
        "    with torch.no_grad():\n",
        "        if(a.requires_grad == False): a.requires_grad_(requires_grad=True)\n",
        "        a.sub_(lr * a.grad)\n",
        "        a.grad.zero_()"
      ],
      "execution_count": 0,
      "outputs": []
    },
    {
      "cell_type": "code",
      "metadata": {
        "id": "G6poPYIeQjaT",
        "colab_type": "code",
        "colab": {
          "base_uri": "https://localhost:8080/",
          "height": 199
        },
        "outputId": "1fe4f735-2f6e-4662-b238-ea6c70111c5a"
      },
      "source": [
        "lr = 1e-1\n",
        "for t in range(100): update()"
      ],
      "execution_count": 42,
      "outputs": [
        {
          "output_type": "stream",
          "text": [
            "tensor(0.0806, grad_fn=<MeanBackward0>)\n",
            "tensor(0.0806, grad_fn=<MeanBackward0>)\n",
            "tensor(0.0806, grad_fn=<MeanBackward0>)\n",
            "tensor(0.0806, grad_fn=<MeanBackward0>)\n",
            "tensor(0.0806, grad_fn=<MeanBackward0>)\n",
            "tensor(0.0806, grad_fn=<MeanBackward0>)\n",
            "tensor(0.0806, grad_fn=<MeanBackward0>)\n",
            "tensor(0.0806, grad_fn=<MeanBackward0>)\n",
            "tensor(0.0806, grad_fn=<MeanBackward0>)\n",
            "tensor(0.0806, grad_fn=<MeanBackward0>)\n"
          ],
          "name": "stdout"
        }
      ]
    },
    {
      "cell_type": "code",
      "metadata": {
        "id": "_2QmF2xgTk0v",
        "colab_type": "code",
        "colab": {
          "base_uri": "https://localhost:8080/",
          "height": 35
        },
        "outputId": "e8b2a34f-80ea-488c-d810-2ff156175470"
      },
      "source": [
        "a.requires_grad_(requires_grad=False)"
      ],
      "execution_count": 43,
      "outputs": [
        {
          "output_type": "execute_result",
          "data": {
            "text/plain": [
              "tensor([2.9908, 2.4916])"
            ]
          },
          "metadata": {
            "tags": []
          },
          "execution_count": 43
        }
      ]
    },
    {
      "cell_type": "code",
      "metadata": {
        "id": "TLeu5H76QjaW",
        "colab_type": "code",
        "colab": {
          "base_uri": "https://localhost:8080/",
          "height": 265
        },
        "outputId": "c06423f1-4cd4-417a-d2a3-e5d1624c9a5a"
      },
      "source": [
        "plt.scatter(x[:,0],y)\n",
        "plt.scatter(x[:,0],x@a);"
      ],
      "execution_count": 44,
      "outputs": [
        {
          "output_type": "display_data",
          "data": {
            "image/png": "[encoded data removed]",
            "text/plain": [
              "<Figure size 432x288 with 1 Axes>"
            ]
          },
          "metadata": {
            "tags": [],
            "needs_background": "light"
          }
        }
      ]
    },
    {
      "cell_type": "markdown",
      "metadata": {
        "id": "xXEkA4jsQjaZ",
        "colab_type": "text"
      },
      "source": [
        "## Animate it!"
      ]
    },
    {
      "cell_type": "code",
      "metadata": {
        "id": "ahEh9W0xQjaa",
        "colab_type": "code",
        "colab": {}
      },
      "source": [
        "from matplotlib import animation, rc\n",
        "rc('animation', html='jshtml')"
      ],
      "execution_count": 0,
      "outputs": []
    },
    {
      "cell_type": "code",
      "metadata": {
        "id": "_lA_Zv2LQjad",
        "colab_type": "code",
        "colab": {}
      },
      "source": [
        "a = nn.Parameter(tensor(-1.,1))\n",
        "\n",
        "fig = plt.figure()\n",
        "plt.scatter(x[:,0], y, c='orange')\n",
        "a.requires_grad_(requires_grad=False)\n",
        "line, = plt.plot(x[:,0], x@a)\n",
        "plt.close()\n",
        "\n",
        "def animate(i):\n",
        "    update()\n",
        "    line.set_ydata(x@a)\n",
        "    return line,\n",
        "\n",
        "animation.FuncAnimation(fig, animate, np.arange(0, 100), interval=20)"
      ],
      "execution_count": 0,
      "outputs": []
    },
    {
      "cell_type": "markdown",
      "metadata": {
        "id": "byfpnEctQjaj",
        "colab_type": "text"
      },
      "source": [
        "In practice, we don't calculate on the whole file at once, but we use *mini-batches*."
      ]
    },
    {
      "cell_type": "markdown",
      "metadata": {
        "id": "b6vG3EiBQjaj",
        "colab_type": "text"
      },
      "source": [
        "## Vocab"
      ]
    },
    {
      "cell_type": "markdown",
      "metadata": {
        "id": "7NEoK9PiQjak",
        "colab_type": "text"
      },
      "source": [
        "- Learning rate\n",
        "- Epoch\n",
        "- Minibatch\n",
        "- SGD\n",
        "- Model / Architecture\n",
        "- Parameters\n",
        "- Loss function\n",
        "\n",
        "For classification problems, we use *cross entropy loss*, also known as *negative log likelihood loss*. This penalizes incorrect confident predictions, and correct unconfident predictions."
      ]
    },
    {
      "cell_type": "code",
      "metadata": {
        "id": "yj9_E155Qjal",
        "colab_type": "code",
        "colab": {}
      },
      "source": [
        ""
      ],
      "execution_count": 0,
      "outputs": []
    }
  ]
}